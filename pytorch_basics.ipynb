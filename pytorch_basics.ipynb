{
  "nbformat": 4,
  "nbformat_minor": 0,
  "metadata": {
    "colab": {
      "name": "pytorch_basics.ipynb",
      "provenance": []
    },
    "kernelspec": {
      "name": "python3",
      "display_name": "Python 3"
    },
    "accelerator": "GPU"
  },
  "cells": [
    {
      "cell_type": "markdown",
      "metadata": {
        "id": "yPhWqlXzVb5p"
      },
      "source": [
        "# Basic Operations"
      ]
    },
    {
      "cell_type": "code",
      "metadata": {
        "id": "c7z6c4uQVhgf"
      },
      "source": [
        "import torch"
      ],
      "execution_count": 1,
      "outputs": []
    },
    {
      "cell_type": "code",
      "metadata": {
        "colab": {
          "base_uri": "https://localhost:8080/"
        },
        "id": "-6sRO1iXVqpP",
        "outputId": "8a905f9a-7923-4dc2-9b6b-eb36c39da09e"
      },
      "source": [
        "# Element wise multiplication\r\n",
        "\r\n",
        "x = torch.Tensor([5,3])\r\n",
        "y = torch.Tensor([2,1])\r\n",
        "\r\n",
        "print(x*y)"
      ],
      "execution_count": 2,
      "outputs": [
        {
          "output_type": "stream",
          "text": [
            "tensor([10.,  3.])\n"
          ],
          "name": "stdout"
        }
      ]
    },
    {
      "cell_type": "code",
      "metadata": {
        "colab": {
          "base_uri": "https://localhost:8080/"
        },
        "id": "KI-b7KAnVuPb",
        "outputId": "7476cb06-e94f-45e7-92af-cd540cda0baf"
      },
      "source": [
        "# analagous to np.zeroes\r\n",
        "x = torch.zeros([2,5])\r\n",
        "print(x)"
      ],
      "execution_count": 3,
      "outputs": [
        {
          "output_type": "stream",
          "text": [
            "tensor([[0., 0., 0., 0., 0.],\n",
            "        [0., 0., 0., 0., 0.]])\n"
          ],
          "name": "stdout"
        }
      ]
    },
    {
      "cell_type": "code",
      "metadata": {
        "colab": {
          "base_uri": "https://localhost:8080/"
        },
        "id": "dVMxTFoPX9zz",
        "outputId": "9297725c-cdf1-4551-e284-ad9205f1ad66"
      },
      "source": [
        "# analagous to np.random\r\n",
        "y = torch.rand([2,5])\r\n",
        "print(y)"
      ],
      "execution_count": 4,
      "outputs": [
        {
          "output_type": "stream",
          "text": [
            "tensor([[0.4961, 0.2629, 0.5556, 0.0884, 0.0079],\n",
            "        [0.0158, 0.5192, 0.3460, 0.7218, 0.4087]])\n"
          ],
          "name": "stdout"
        }
      ]
    },
    {
      "cell_type": "code",
      "metadata": {
        "colab": {
          "base_uri": "https://localhost:8080/"
        },
        "id": "7mhKcOAXV1_Y",
        "outputId": "bfddb92e-3f23-4691-c444-c14a8466a856"
      },
      "source": [
        "# analagous to np.reshape\r\n",
        "y.view([1,10]) # y is not directly modified; reassign if needed"
      ],
      "execution_count": 5,
      "outputs": [
        {
          "output_type": "execute_result",
          "data": {
            "text/plain": [
              "tensor([[0.4961, 0.2629, 0.5556, 0.0884, 0.0079, 0.0158, 0.5192, 0.3460, 0.7218,\n",
              "         0.4087]])"
            ]
          },
          "metadata": {
            "tags": []
          },
          "execution_count": 5
        }
      ]
    },
    {
      "cell_type": "markdown",
      "metadata": {
        "id": "wQBMSnWEYOdj"
      },
      "source": [
        "# Load MNIST Dataset"
      ]
    },
    {
      "cell_type": "code",
      "metadata": {
        "id": "Mu1EyGB6YQzp"
      },
      "source": [
        "import torch\r\n",
        "import torchvision\r\n",
        "from torchvision import transforms, datasets"
      ],
      "execution_count": 6,
      "outputs": []
    },
    {
      "cell_type": "code",
      "metadata": {
        "id": "ZG70b8ulYcN6"
      },
      "source": [
        "train = datasets.MNIST(\"\", train=True, download=True,\r\n",
        "                       transform = transforms.Compose([transforms.ToTensor()]))\r\n",
        "test = datasets.MNIST(\"\", train=False, download=True,\r\n",
        "                       transform = transforms.Compose([transforms.ToTensor()]))"
      ],
      "execution_count": 7,
      "outputs": []
    },
    {
      "cell_type": "code",
      "metadata": {
        "id": "P_hjdkqeZb70"
      },
      "source": [
        "trainset = torch.utils.data.DataLoader(train, batch_size=10, shuffle=True)\r\n",
        "testset = torch.utils.data.DataLoader(test, batch_size=10, shuffle=True)"
      ],
      "execution_count": 8,
      "outputs": []
    },
    {
      "cell_type": "code",
      "metadata": {
        "colab": {
          "base_uri": "https://localhost:8080/"
        },
        "id": "-HTDqW9UZ3mc",
        "outputId": "3afa6955-6a83-4c99-dcd4-1291cdbc9919"
      },
      "source": [
        "for data in trainset:\r\n",
        "  print(data)\r\n",
        "  break"
      ],
      "execution_count": 9,
      "outputs": [
        {
          "output_type": "stream",
          "text": [
            "[tensor([[[[0., 0., 0.,  ..., 0., 0., 0.],\n",
            "          [0., 0., 0.,  ..., 0., 0., 0.],\n",
            "          [0., 0., 0.,  ..., 0., 0., 0.],\n",
            "          ...,\n",
            "          [0., 0., 0.,  ..., 0., 0., 0.],\n",
            "          [0., 0., 0.,  ..., 0., 0., 0.],\n",
            "          [0., 0., 0.,  ..., 0., 0., 0.]]],\n",
            "\n",
            "\n",
            "        [[[0., 0., 0.,  ..., 0., 0., 0.],\n",
            "          [0., 0., 0.,  ..., 0., 0., 0.],\n",
            "          [0., 0., 0.,  ..., 0., 0., 0.],\n",
            "          ...,\n",
            "          [0., 0., 0.,  ..., 0., 0., 0.],\n",
            "          [0., 0., 0.,  ..., 0., 0., 0.],\n",
            "          [0., 0., 0.,  ..., 0., 0., 0.]]],\n",
            "\n",
            "\n",
            "        [[[0., 0., 0.,  ..., 0., 0., 0.],\n",
            "          [0., 0., 0.,  ..., 0., 0., 0.],\n",
            "          [0., 0., 0.,  ..., 0., 0., 0.],\n",
            "          ...,\n",
            "          [0., 0., 0.,  ..., 0., 0., 0.],\n",
            "          [0., 0., 0.,  ..., 0., 0., 0.],\n",
            "          [0., 0., 0.,  ..., 0., 0., 0.]]],\n",
            "\n",
            "\n",
            "        ...,\n",
            "\n",
            "\n",
            "        [[[0., 0., 0.,  ..., 0., 0., 0.],\n",
            "          [0., 0., 0.,  ..., 0., 0., 0.],\n",
            "          [0., 0., 0.,  ..., 0., 0., 0.],\n",
            "          ...,\n",
            "          [0., 0., 0.,  ..., 0., 0., 0.],\n",
            "          [0., 0., 0.,  ..., 0., 0., 0.],\n",
            "          [0., 0., 0.,  ..., 0., 0., 0.]]],\n",
            "\n",
            "\n",
            "        [[[0., 0., 0.,  ..., 0., 0., 0.],\n",
            "          [0., 0., 0.,  ..., 0., 0., 0.],\n",
            "          [0., 0., 0.,  ..., 0., 0., 0.],\n",
            "          ...,\n",
            "          [0., 0., 0.,  ..., 0., 0., 0.],\n",
            "          [0., 0., 0.,  ..., 0., 0., 0.],\n",
            "          [0., 0., 0.,  ..., 0., 0., 0.]]],\n",
            "\n",
            "\n",
            "        [[[0., 0., 0.,  ..., 0., 0., 0.],\n",
            "          [0., 0., 0.,  ..., 0., 0., 0.],\n",
            "          [0., 0., 0.,  ..., 0., 0., 0.],\n",
            "          ...,\n",
            "          [0., 0., 0.,  ..., 0., 0., 0.],\n",
            "          [0., 0., 0.,  ..., 0., 0., 0.],\n",
            "          [0., 0., 0.,  ..., 0., 0., 0.]]]]), tensor([5, 2, 8, 8, 9, 3, 5, 0, 7, 5])]\n"
          ],
          "name": "stdout"
        }
      ]
    },
    {
      "cell_type": "code",
      "metadata": {
        "colab": {
          "base_uri": "https://localhost:8080/"
        },
        "id": "ksspFHGzaph9",
        "outputId": "97003b6d-e3e4-4234-80bf-9504f1a55fc9"
      },
      "source": [
        "x, y = data[0][0], data[1][0]\r\n",
        "\r\n",
        "print(y)"
      ],
      "execution_count": 10,
      "outputs": [
        {
          "output_type": "stream",
          "text": [
            "tensor(5)\n"
          ],
          "name": "stdout"
        }
      ]
    },
    {
      "cell_type": "code",
      "metadata": {
        "colab": {
          "base_uri": "https://localhost:8080/",
          "height": 0
        },
        "id": "VlxLeWDga5PI",
        "outputId": "e0e0d7d1-5f20-4512-a2c5-851746b08b0c"
      },
      "source": [
        "import matplotlib.pyplot as plt\r\n",
        "\r\n",
        "plt.imshow(x.view(28,28)) # x.shape is (1,28,28), needs reshaping\r\n",
        "plt.show()"
      ],
      "execution_count": 11,
      "outputs": [
        {
          "output_type": "display_data",
          "data": {
            "image/png": "[encoded data removed]",
            "text/plain": [
              "<Figure size 432x288 with 1 Axes>"
            ]
          },
          "metadata": {
            "tags": [],
            "needs_background": "light"
          }
        }
      ]
    },
    {
      "cell_type": "code",
      "metadata": {
        "colab": {
          "base_uri": "https://localhost:8080/"
        },
        "id": "C9PJy7x0cJIf",
        "outputId": "36899d1a-89af-4b1c-8f45-9a6857416952"
      },
      "source": [
        "# Check data distribution\r\n",
        "\r\n",
        "total = 0\r\n",
        "counter_dict = {0:0, 1:0, 2:0, 3:0, 4:0, 5:0, 6:0, 7:0, 8:0, 9:0}\r\n",
        "\r\n",
        "for data in trainset:\r\n",
        "  Xs, ys = data\r\n",
        "  for y in ys:\r\n",
        "    counter_dict[int(y)] += 1\r\n",
        "    total += 1\r\n",
        "\r\n",
        "print(counter_dict)\r\n",
        "\r\n",
        "for i in counter_dict:\r\n",
        "  print(f\"{i}: {counter_dict[i]/total * 100}\")"
      ],
      "execution_count": 12,
      "outputs": [
        {
          "output_type": "stream",
          "text": [
            "{0: 5923, 1: 6742, 2: 5958, 3: 6131, 4: 5842, 5: 5421, 6: 5918, 7: 6265, 8: 5851, 9: 5949}\n",
            "0: 9.871666666666666\n",
            "1: 11.236666666666666\n",
            "2: 9.93\n",
            "3: 10.218333333333334\n",
            "4: 9.736666666666666\n",
            "5: 9.035\n",
            "6: 9.863333333333333\n",
            "7: 10.441666666666666\n",
            "8: 9.751666666666667\n",
            "9: 9.915000000000001\n"
          ],
          "name": "stdout"
        }
      ]
    },
    {
      "cell_type": "markdown",
      "metadata": {
        "id": "LADhbVXvfSyy"
      },
      "source": [
        "# Build Model"
      ]
    },
    {
      "cell_type": "code",
      "metadata": {
        "id": "ZJg6ckwDfUhB"
      },
      "source": [
        "import torch.nn as nn\r\n",
        "import torch.nn.functional as F"
      ],
      "execution_count": 13,
      "outputs": []
    },
    {
      "cell_type": "code",
      "metadata": {
        "colab": {
          "base_uri": "https://localhost:8080/"
        },
        "id": "awgtsXpQfck-",
        "outputId": "1797ec2c-d2f6-4433-b37b-2d527f3abd80"
      },
      "source": [
        "class Net(nn.Module):\r\n",
        "  def __init__(self):\r\n",
        "    super().__init__()\r\n",
        "    self.fc1 = nn.Linear(28*28, 64)\r\n",
        "    self.fc2 = nn.Linear(64, 64)\r\n",
        "    self.fc3 = nn.Linear(64, 64)\r\n",
        "    self.fc4 = nn.Linear(64, 10) # we have 10 classes\r\n",
        "\r\n",
        "  def forward(self, x):\r\n",
        "    x = F.relu(self.fc1(x))\r\n",
        "    x = F.relu(self.fc2(x))\r\n",
        "    x = F.relu(self.fc3(x))\r\n",
        "    x = self.fc4(x)\r\n",
        "\r\n",
        "    return F.log_softmax(x, dim=1)\r\n",
        "\r\n",
        "net = Net()\r\n",
        "print(net)"
      ],
      "execution_count": 14,
      "outputs": [
        {
          "output_type": "stream",
          "text": [
            "Net(\n",
            "  (fc1): Linear(in_features=784, out_features=64, bias=True)\n",
            "  (fc2): Linear(in_features=64, out_features=64, bias=True)\n",
            "  (fc3): Linear(in_features=64, out_features=64, bias=True)\n",
            "  (fc4): Linear(in_features=64, out_features=10, bias=True)\n",
            ")\n"
          ],
          "name": "stdout"
        }
      ]
    },
    {
      "cell_type": "code",
      "metadata": {
        "colab": {
          "base_uri": "https://localhost:8080/"
        },
        "id": "rSk5z4RjgVIR",
        "outputId": "261d8eff-9ede-4bdc-c142-fc82c098682e"
      },
      "source": [
        "X = torch.rand((28,28))\r\n",
        "X = X.view(-1, 28*28)\r\n",
        "\r\n",
        "output = net(X)\r\n",
        "output"
      ],
      "execution_count": 15,
      "outputs": [
        {
          "output_type": "execute_result",
          "data": {
            "text/plain": [
              "tensor([[-2.3902, -2.2068, -2.3505, -2.2048, -2.2201, -2.3088, -2.3487, -2.3458,\n",
              "         -2.4440, -2.2379]], grad_fn=<LogSoftmaxBackward>)"
            ]
          },
          "metadata": {
            "tags": []
          },
          "execution_count": 15
        }
      ]
    },
    {
      "cell_type": "markdown",
      "metadata": {
        "id": "HI9COWEu1HQb"
      },
      "source": [
        "# Train and Evaluate Model"
      ]
    },
    {
      "cell_type": "code",
      "metadata": {
        "colab": {
          "base_uri": "https://localhost:8080/"
        },
        "id": "j4KUJpdDlpGV",
        "outputId": "744e0a66-7a38-45d2-c32a-73cfae7bb90e"
      },
      "source": [
        "import torch.optim as optim\r\n",
        "\r\n",
        "optimizer = optim.Adam(net.parameters(), lr=0.001)\r\n",
        "\r\n",
        "EPOCHS = 3\r\n",
        "\r\n",
        "for epoch in range(EPOCHS):\r\n",
        "  for data in trainset:\r\n",
        "    X, y = data\r\n",
        "    net.zero_grad()\r\n",
        "    output = net(X.view(-1, 28*28))\r\n",
        "    loss = F.nll_loss(output, y)\r\n",
        "    loss.backward()\r\n",
        "    optimizer.step()\r\n",
        "  \r\n",
        "  print(loss)"
      ],
      "execution_count": 16,
      "outputs": [
        {
          "output_type": "stream",
          "text": [
            "tensor(0.1300, grad_fn=<NllLossBackward>)\n",
            "tensor(0.0101, grad_fn=<NllLossBackward>)\n",
            "tensor(0.2550, grad_fn=<NllLossBackward>)\n"
          ],
          "name": "stdout"
        }
      ]
    },
    {
      "cell_type": "code",
      "metadata": {
        "colab": {
          "base_uri": "https://localhost:8080/"
        },
        "id": "0XQ_6T47zrzK",
        "outputId": "4f55a2c9-449b-495a-c143-b0cdc35a1dc8"
      },
      "source": [
        "correct = 0\r\n",
        "total = 0\r\n",
        "\r\n",
        "with torch.no_grad():\r\n",
        "  for data in testset:\r\n",
        "    X, y = data\r\n",
        "    output = net(X.view(-1, 28*28))\r\n",
        "    for idx, i in enumerate(output):\r\n",
        "      if torch.argmax(i) == y[idx]:\r\n",
        "        correct += 1\r\n",
        "      total += 1\r\n",
        "\r\n",
        "print(\"Accuracy\", round(correct/total, 3))"
      ],
      "execution_count": 17,
      "outputs": [
        {
          "output_type": "stream",
          "text": [
            "Accuracy 0.961\n"
          ],
          "name": "stdout"
        }
      ]
    },
    {
      "cell_type": "code",
      "metadata": {
        "colab": {
          "base_uri": "https://localhost:8080/",
          "height": 265
        },
        "id": "d61sUbOK1Uvt",
        "outputId": "dedf5047-1ef3-4471-b82c-c2bb2d1ef4d4"
      },
      "source": [
        "plt.imshow(X[0].view(28,28))\r\n",
        "plt.show()"
      ],
      "execution_count": 18,
      "outputs": [
        {
          "output_type": "display_data",
          "data": {
            "image/png": "[encoded data removed]",
            "text/plain": [
              "<Figure size 432x288 with 1 Axes>"
            ]
          },
          "metadata": {
            "tags": [],
            "needs_background": "light"
          }
        }
      ]
    },
    {
      "cell_type": "code",
      "metadata": {
        "colab": {
          "base_uri": "https://localhost:8080/"
        },
        "id": "uNlq0fRM1ZlL",
        "outputId": "13da7b24-1173-4681-969f-0685a2bd2369"
      },
      "source": [
        "print(torch.argmax(net(X[0].view(-1, 28*28))[0]))"
      ],
      "execution_count": 19,
      "outputs": [
        {
          "output_type": "stream",
          "text": [
            "tensor(6)\n"
          ],
          "name": "stdout"
        }
      ]
    }
  ]
}