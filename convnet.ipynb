{
  "nbformat": 4,
  "nbformat_minor": 0,
  "metadata": {
    "accelerator": "GPU",
    "colab": {
      "name": "convnet.ipynb",
      "provenance": [],
      "collapsed_sections": []
    },
    "kernelspec": {
      "display_name": "Python 3",
      "name": "python3"
    }
  },
  "cells": [
    {
      "cell_type": "markdown",
      "metadata": {
        "id": "BqKqQFlOCehY"
      },
      "source": [
        "# Import Cat vs Dog Dataset"
      ]
    },
    {
      "cell_type": "code",
      "metadata": {
        "id": "PjQuN2rL38Z9"
      },
      "source": [
        "import os\r\n",
        "import cv2\r\n",
        "import numpy as np\r\n",
        "from tqdm import tqdm\r\n",
        "import matplotlib.pyplot as plt"
      ],
      "execution_count": 1,
      "outputs": []
    },
    {
      "cell_type": "code",
      "metadata": {
        "colab": {
          "base_uri": "https://localhost:8080/"
        },
        "id": "ik99x0ASAVzb",
        "outputId": "aaec7501-a57d-4b01-cd1e-334a9478da86"
      },
      "source": [
        "import zipfile\r\n",
        "\r\n",
        "!wget --no-check-certificate \\\r\n",
        "    \"https://download.microsoft.com/download/3/E/1/3E1C3F21-ECDB-4869-8368-6DEBA77B919F/kagglecatsanddogs_3367a.zip\" \\\r\n",
        "    -O \"cats-and-dogs.zip\"\r\n",
        "\r\n",
        "local_zip = 'cats-and-dogs.zip'\r\n",
        "zip_ref   = zipfile.ZipFile(local_zip, 'r')\r\n",
        "zip_ref.extractall('.')\r\n",
        "zip_ref.close()"
      ],
      "execution_count": 2,
      "outputs": [
        {
          "output_type": "stream",
          "text": [
            "--2020-12-29 18:47:51--  https://download.microsoft.com/download/3/E/1/3E1C3F21-ECDB-4869-8368-6DEBA77B919F/kagglecatsanddogs_3367a.zip\n",
            "Resolving download.microsoft.com (download.microsoft.com)... 23.62.26.50, 2600:1408:2000:6a0::e59, 2600:1408:2000:683::e59\n",
            "Connecting to download.microsoft.com (download.microsoft.com)|23.62.26.50|:443... connected.\n",
            "HTTP request sent, awaiting response... 200 OK\n",
            "Length: 824894548 (787M) [application/octet-stream]\n",
            "Saving to: ‘cats-and-dogs.zip’\n",
            "\n",
            "cats-and-dogs.zip   100%[===================>] 786.68M   189MB/s    in 4.2s    \n",
            "\n",
            "2020-12-29 18:47:55 (187 MB/s) - ‘cats-and-dogs.zip’ saved [824894548/824894548]\n",
            "\n"
          ],
          "name": "stdout"
        }
      ]
    },
    {
      "cell_type": "code",
      "metadata": {
        "id": "1wzdXVMlB-dj",
        "colab": {
          "base_uri": "https://localhost:8080/"
        },
        "outputId": "6b769c3b-743f-4ecb-d6f2-d39050ce16a4"
      },
      "source": [
        "REBUILD_DATA = True\r\n",
        "\r\n",
        "class DogsVSCats():\r\n",
        "  IMG_SIZE = 50\r\n",
        "  CATS=\"PetImages/Cat\"\r\n",
        "  DOGS=\"PetImages/Dog\"\r\n",
        "  LABELS= {CATS: 0, DOGS: 1}\r\n",
        "  training_data = []\r\n",
        "  catcount = 0\r\n",
        "  dogcount = 0\r\n",
        "\r\n",
        "  def make_training_data(self):\r\n",
        "    for label in self.LABELS:\r\n",
        "      print(label)\r\n",
        "      for f in tqdm(os.listdir(label)):\r\n",
        "        try:\r\n",
        "          path = os.path.join(label, f)\r\n",
        "          img = cv2.imread(path, cv2.IMREAD_GRAYSCALE)\r\n",
        "          img = cv2.resize(img, (self.IMG_SIZE, self.IMG_SIZE))\r\n",
        "          self.training_data.append([np.array(img), np.eye(2)[self.LABELS[label]]])\r\n",
        "\r\n",
        "          if label == self.CATS:\r\n",
        "            self.catcount += 1\r\n",
        "          elif label == self.DOGS:\r\n",
        "            self.dogcount += 1\r\n",
        "        except Exception as e:\r\n",
        "          pass\r\n",
        "\r\n",
        "    np.random.shuffle(self.training_data)\r\n",
        "    np.save(\"training_data.npy\", self.training_data)\r\n",
        "    print(\"Cats:\", self.catcount)\r\n",
        "    print(\"Dogs:\", self.dogcount)\r\n",
        "\r\n",
        "if REBUILD_DATA:\r\n",
        "  dogsvcats = DogsVSCats()\r\n",
        "  dogsvcats.make_training_data()"
      ],
      "execution_count": 3,
      "outputs": [
        {
          "output_type": "stream",
          "text": [
            "  1%|          | 89/12501 [00:00<00:14, 882.51it/s]"
          ],
          "name": "stderr"
        },
        {
          "output_type": "stream",
          "text": [
            "PetImages/Cat\n"
          ],
          "name": "stdout"
        },
        {
          "output_type": "stream",
          "text": [
            "100%|██████████| 12501/12501 [00:13<00:00, 899.70it/s]\n",
            "  1%|          | 99/12501 [00:00<00:12, 977.97it/s]"
          ],
          "name": "stderr"
        },
        {
          "output_type": "stream",
          "text": [
            "PetImages/Dog\n"
          ],
          "name": "stdout"
        },
        {
          "output_type": "stream",
          "text": [
            "100%|██████████| 12501/12501 [00:14<00:00, 857.50it/s]\n",
            "/usr/local/lib/python3.6/dist-packages/numpy/core/_asarray.py:136: VisibleDeprecationWarning: Creating an ndarray from ragged nested sequences (which is a list-or-tuple of lists-or-tuples-or ndarrays with different lengths or shapes) is deprecated. If you meant to do this, you must specify 'dtype=object' when creating the ndarray\n",
            "  return array(a, dtype, copy=False, order=order, subok=True)\n"
          ],
          "name": "stderr"
        },
        {
          "output_type": "stream",
          "text": [
            "Cats: 12476\n",
            "Dogs: 12470\n"
          ],
          "name": "stdout"
        }
      ]
    },
    {
      "cell_type": "code",
      "metadata": {
        "colab": {
          "base_uri": "https://localhost:8080/"
        },
        "id": "sCbyYiigGuZH",
        "outputId": "d5556d17-5461-41e3-a40d-eaefafc73c1b"
      },
      "source": [
        "training_data = np.load(\"training_data.npy\", allow_pickle=True)\r\n",
        "\r\n",
        "print(len(training_data))"
      ],
      "execution_count": 4,
      "outputs": [
        {
          "output_type": "stream",
          "text": [
            "24946\n"
          ],
          "name": "stdout"
        }
      ]
    },
    {
      "cell_type": "code",
      "metadata": {
        "colab": {
          "base_uri": "https://localhost:8080/",
          "height": 409
        },
        "id": "vn9FskFRHEti",
        "outputId": "5be141bb-17cd-472d-fc1d-313e1e5a2d65"
      },
      "source": [
        "print(training_data[0]) # [1, 0] -> cat; [0, 1] -> dog\r\n",
        "\r\n",
        "plt.imshow(training_data[0][0], cmap=\"gray\")\r\n",
        "plt.show()"
      ],
      "execution_count": 5,
      "outputs": [
        {
          "output_type": "stream",
          "text": [
            "[array([[ 75,  28,  27, ...,  89,  95,  90],\n",
            "       [135, 148, 162, ...,  89, 100, 121],\n",
            "       [ 45,  46,  60, ...,  91, 111,  82],\n",
            "       ...,\n",
            "       [154, 126, 106, ..., 137, 133, 121],\n",
            "       [214, 223, 204, ..., 131, 126, 116],\n",
            "       [144, 136, 141, ..., 130, 119, 110]], dtype=uint8)\n",
            " array([0., 1.])]\n"
          ],
          "name": "stdout"
        },
        {
          "output_type": "display_data",
          "data": {
            "image/png": "[encoded data removed]",
            "text/plain": [
              "<Figure size 432x288 with 1 Axes>"
            ]
          },
          "metadata": {
            "tags": [],
            "needs_background": "light"
          }
        }
      ]
    },
    {
      "cell_type": "markdown",
      "metadata": {
        "id": "H1D6bf66ots5"
      },
      "source": [
        "# Build and Evaluate Model\r\n",
        "To calculate number of units used, follow this [tutorial](https://github.com/rasbt/deeplearning-models/blob/master/pytorch_ipynb/cnn/cnn-basic.ipynb) by Sebastian Raschka."
      ]
    },
    {
      "cell_type": "code",
      "metadata": {
        "colab": {
          "base_uri": "https://localhost:8080/"
        },
        "id": "qmsdT8rx7QhZ",
        "outputId": "b4a0b179-e564-4e4d-c8e7-4e37ffe9fc9c"
      },
      "source": [
        "import torch\r\n",
        "import torch.nn as nn\r\n",
        "import torch.nn.functional as F\r\n",
        "import torch.optim as optim\r\n",
        "\r\n",
        "if torch.cuda.is_available():\r\n",
        "  device = torch.device(\"cuda:0\")\r\n",
        "  print(\"Running on the GPU\")\r\n",
        "else:\r\n",
        "  device = torch.device(\"cpu\")\r\n",
        "  print(\"Running on the CPU\")"
      ],
      "execution_count": 6,
      "outputs": [
        {
          "output_type": "stream",
          "text": [
            "Running on the GPU\n"
          ],
          "name": "stdout"
        }
      ]
    },
    {
      "cell_type": "code",
      "metadata": {
        "id": "NPtP4k-9kitz"
      },
      "source": [
        "class Net(nn.Module):\r\n",
        "  def __init__(self):\r\n",
        "    super().__init__()\r\n",
        "    \"\"\"\r\n",
        "    InputSize = 50 x 50 (reshaped during making training data). Kernel Size = 5 x 5 (specified below). PoolSize = 2 x 2 (specified below).\r\n",
        "    Conv2D layer output size is (InputSize - KernelSize + 1) => (InputSize - 4). This only applies for stride=1 and padding=0\r\n",
        "    MaxPool2D layer output size is floor(InputSize/PoolSize) => floor(InputSize/2). This only applies for stride=KernelSize and padding=0\r\n",
        "    Calculation: 50x50x1 --conv2d--> 46x46x32 --pool--> 23x23x32 --conv2d--> 19x19x64 --pool--> 9x9x64 --conv2d--> 5x5x128 --pool--> 2x2x128\r\n",
        "    \"\"\"\r\n",
        "\r\n",
        "    self.conv1 = nn.Conv2d(1,32,5)\r\n",
        "    self.conv2 = nn.Conv2d(32,64,5)\r\n",
        "    self.conv3 = nn.Conv2d(64,128,5)\r\n",
        "    self.fc1 = nn.Linear(2*2*128,512)\r\n",
        "    self.fc2 = nn.Linear(512,2)\r\n",
        "\r\n",
        "  def forward(self, x):\r\n",
        "    x = F.max_pool2d(F.relu(self.conv1(x)), (2,2))\r\n",
        "    x = F.max_pool2d(F.relu(self.conv2(x)), (2,2))\r\n",
        "    x = F.max_pool2d(F.relu(self.conv3(x)), (2,2))\r\n",
        "    x = x.view(-1, 2*2*128) # flatten\r\n",
        "    x = F.relu(self.fc1(x))\r\n",
        "    x = self.fc2(x)\r\n",
        "    return F.softmax(x, dim=1)\r\n",
        "\r\n",
        "net = Net().to(device)\r\n",
        "optimizer = optim.Adam(net.parameters(), lr=0.001)\r\n",
        "loss_function = nn.MSELoss()"
      ],
      "execution_count": 7,
      "outputs": []
    },
    {
      "cell_type": "code",
      "metadata": {
        "colab": {
          "base_uri": "https://localhost:8080/"
        },
        "id": "sV5-TA5luaVe",
        "outputId": "e30da9bb-d746-435d-adf8-6485fbf8e796"
      },
      "source": [
        "X = torch.Tensor([i[0] for i in training_data]).view(-1,50,50)\r\n",
        "X = X/255.0\r\n",
        "y = torch.Tensor([i[1] for i in training_data])\r\n",
        "\r\n",
        "VAL_PCT = 0.1\r\n",
        "val_size = int(len(X)*VAL_PCT)\r\n",
        "print(val_size)"
      ],
      "execution_count": 8,
      "outputs": [
        {
          "output_type": "stream",
          "text": [
            "2494\n"
          ],
          "name": "stdout"
        }
      ]
    },
    {
      "cell_type": "code",
      "metadata": {
        "colab": {
          "base_uri": "https://localhost:8080/"
        },
        "id": "AYuHv_zWznsS",
        "outputId": "7d7d4543-035e-4b6f-eaf5-10fa3ad9c700"
      },
      "source": [
        "train_X = X[:-val_size]\r\n",
        "train_y = y[:-val_size]\r\n",
        "\r\n",
        "test_X = X[-val_size:]\r\n",
        "test_y = y[-val_size:]\r\n",
        "\r\n",
        "print(len(train_X))\r\n",
        "print(len(test_X))"
      ],
      "execution_count": 9,
      "outputs": [
        {
          "output_type": "stream",
          "text": [
            "22452\n",
            "2494\n"
          ],
          "name": "stdout"
        }
      ]
    },
    {
      "cell_type": "code",
      "metadata": {
        "id": "I2Fsc6Rt8yIV"
      },
      "source": [
        "BATCH_SIZE = 100\r\n",
        "EPOCHS = 3\r\n",
        "\r\n",
        "def train(net):\r\n",
        "  for epoch in range(EPOCHS):\r\n",
        "    for i in tqdm(range(0, len(train_X), BATCH_SIZE)): # from 0, to the len of x, stepping BATCH_SIZE at a time\r\n",
        "      #print(f\"{i}:{i+BATCH_SIZE}\")\r\n",
        "\r\n",
        "      # if the model is on the GPU, the data also needs to be on the GPU\r\n",
        "      batch_X = train_X[i:i+BATCH_SIZE].view(-1, 1, 50, 50).to(device)\r\n",
        "      batch_y = train_y[i:i+BATCH_SIZE].to(device)\r\n",
        "\r\n",
        "      net.zero_grad()\r\n",
        "      optimizer.zero_grad()   # zero the gradient buffers\r\n",
        "\r\n",
        "      outputs = net(batch_X)\r\n",
        "      loss = loss_function(outputs, batch_y)\r\n",
        "      loss.backward()\r\n",
        "      optimizer.step() # Does the update\r\n",
        "\r\n",
        "  print(f\"Epoch: {epoch}. Loss: {loss}\")"
      ],
      "execution_count": 10,
      "outputs": []
    },
    {
      "cell_type": "code",
      "metadata": {
        "id": "wfQdk1Lp8zH7"
      },
      "source": [
        "def test(net):\r\n",
        "  correct = 0\r\n",
        "  total = 0\r\n",
        "  with torch.no_grad():\r\n",
        "    for i in tqdm(range(len(test_X))):\r\n",
        "      real_class = torch.argmax(test_y[i]).to(device)\r\n",
        "      net_out = net(test_X[i].view(-1, 1, 50, 50).to(device))[0]  # returns a list\r\n",
        "      predicted_class = torch.argmax(net_out)\r\n",
        "\r\n",
        "      if predicted_class == real_class:\r\n",
        "        correct += 1\r\n",
        "      total += 1\r\n",
        "\r\n",
        "  print(\"Accuracy: \", round(correct/total, 3))"
      ],
      "execution_count": 11,
      "outputs": []
    },
    {
      "cell_type": "code",
      "metadata": {
        "colab": {
          "base_uri": "https://localhost:8080/"
        },
        "id": "Nojs8etn792P",
        "outputId": "2f421cdc-04c3-4eaa-ca7c-a50ae51eb7b7"
      },
      "source": [
        "train(net)"
      ],
      "execution_count": 12,
      "outputs": [
        {
          "output_type": "stream",
          "text": [
            "100%|██████████| 225/225 [00:02<00:00, 108.45it/s]\n",
            "100%|██████████| 225/225 [00:01<00:00, 112.66it/s]\n",
            "100%|██████████| 225/225 [00:02<00:00, 112.47it/s]"
          ],
          "name": "stderr"
        },
        {
          "output_type": "stream",
          "text": [
            "Epoch: 2. Loss: 0.2081940770149231\n"
          ],
          "name": "stdout"
        },
        {
          "output_type": "stream",
          "text": [
            "\n"
          ],
          "name": "stderr"
        }
      ]
    },
    {
      "cell_type": "code",
      "metadata": {
        "colab": {
          "base_uri": "https://localhost:8080/"
        },
        "id": "LPSFArZLATwH",
        "outputId": "cffb9fcf-23d5-4f2d-d0e5-4637471a4879"
      },
      "source": [
        "test(net)"
      ],
      "execution_count": 13,
      "outputs": [
        {
          "output_type": "stream",
          "text": [
            "100%|██████████| 2494/2494 [00:01<00:00, 1451.25it/s]"
          ],
          "name": "stderr"
        },
        {
          "output_type": "stream",
          "text": [
            "Accuracy:  0.628\n"
          ],
          "name": "stdout"
        },
        {
          "output_type": "stream",
          "text": [
            "\n"
          ],
          "name": "stderr"
        }
      ]
    },
    {
      "cell_type": "code",
      "metadata": {
        "id": "1xp3d3WWJ9_R"
      },
      "source": [
        "def fwd_pass(X, y, train=False):\r\n",
        "  if train:\r\n",
        "    net.zero_grad()\r\n",
        "  outputs = net(X)\r\n",
        "  matches = [torch.argmax(i) == torch.argmax(j) for i, j in zip(outputs, y)]\r\n",
        "  acc = matches.count(True) / len(matches)\r\n",
        "  loss = loss_function(outputs, y)\r\n",
        "\r\n",
        "  if train:\r\n",
        "    loss.backward()\r\n",
        "    optimizer.step()\r\n",
        "  return acc, loss"
      ],
      "execution_count": 14,
      "outputs": []
    },
    {
      "cell_type": "code",
      "metadata": {
        "colab": {
          "base_uri": "https://localhost:8080/"
        },
        "id": "_anks1W9MQ5k",
        "outputId": "9dfa2b05-240c-46ed-d055-be4f2d2e0241"
      },
      "source": [
        "# sampling the test set at random\r\n",
        "def test(size=32):\r\n",
        "  random_start = np.random.randint(len(test_X) - size)\r\n",
        "  X, y = test_X[random_start:random_start + size], test_y[random_start:random_start + size]\r\n",
        "\r\n",
        "  with torch.no_grad():\r\n",
        "    val_acc, val_loss = fwd_pass(X.view(-1,1,50,50).to(device), y.to(device))\r\n",
        "\r\n",
        "  return val_acc, val_loss\r\n",
        "\r\n",
        "val_acc, val_loss = test(size=32)\r\n",
        "print(val_acc, val_loss)"
      ],
      "execution_count": 15,
      "outputs": [
        {
          "output_type": "stream",
          "text": [
            "0.71875 tensor(0.1988, device='cuda:0')\n"
          ],
          "name": "stdout"
        }
      ]
    },
    {
      "cell_type": "markdown",
      "metadata": {
        "id": "OTSI00Rv7iOB"
      },
      "source": [
        "# Model Analysis"
      ]
    },
    {
      "cell_type": "code",
      "metadata": {
        "colab": {
          "base_uri": "https://localhost:8080/"
        },
        "id": "32MIum9Q0YVM",
        "outputId": "46523a62-1b51-49e6-e119-8815dad4336d"
      },
      "source": [
        "import time\r\n",
        "\r\n",
        "MODEL_NAME = f\"model-{int(time.time())}\" # give the model a dynamic name\r\n",
        "\r\n",
        "net = Net().to(device)\r\n",
        "optimizer = optim.Adam(net.parameters(), lr=0.001)\r\n",
        "loss_function = nn.MSELoss()\r\n",
        "\r\n",
        "print(MODEL_NAME)"
      ],
      "execution_count": 16,
      "outputs": [
        {
          "output_type": "stream",
          "text": [
            "model-1609267746\n"
          ],
          "name": "stdout"
        }
      ]
    },
    {
      "cell_type": "code",
      "metadata": {
        "colab": {
          "base_uri": "https://localhost:8080/"
        },
        "id": "wvuRiwv18YxQ",
        "outputId": "5b7d7c03-ffbc-4721-9c77-45f2765c82bf"
      },
      "source": [
        "BATCH_SIZE = 100\r\n",
        "EPOCHS = 30\r\n",
        "\r\n",
        "def train():\r\n",
        "  with open(\"model.log\", \"a\") as f:\r\n",
        "    for epoch in range(EPOCHS):\r\n",
        "      for i in tqdm(range(0, len(train_X), BATCH_SIZE)): # from 0, to the len of x, stepping BATCH_SIZE at a time\r\n",
        "\r\n",
        "        # if the model is on the GPU, the data also needs to be on the GPU\r\n",
        "        batch_X = train_X[i:i+BATCH_SIZE].view(-1, 1, 50, 50).to(device)\r\n",
        "        batch_y = train_y[i:i+BATCH_SIZE].to(device)\r\n",
        "\r\n",
        "        acc, loss = fwd_pass(batch_X, batch_y, train=True)\r\n",
        "\r\n",
        "        if i % 50 == 0: # every 50 steps, track the val loss\r\n",
        "          val_acc, val_loss = test(size=100)\r\n",
        "          f.write(f\"{MODEL_NAME},{round(time.time(),3)},{round(float(acc),2)},{round(float(loss), 4)},{round(float(val_acc),2)},{round(float(val_loss),4)}\\n\")\r\n",
        "\r\n",
        "train()"
      ],
      "execution_count": 17,
      "outputs": [
        {
          "output_type": "stream",
          "text": [
            "100%|██████████| 225/225 [00:05<00:00, 39.89it/s]\n",
            "100%|██████████| 225/225 [00:05<00:00, 39.91it/s]\n",
            "100%|██████████| 225/225 [00:05<00:00, 40.07it/s]\n",
            "100%|██████████| 225/225 [00:05<00:00, 40.85it/s]\n",
            "100%|██████████| 225/225 [00:05<00:00, 40.69it/s]\n",
            "100%|██████████| 225/225 [00:05<00:00, 40.97it/s]\n",
            "100%|██████████| 225/225 [00:05<00:00, 41.23it/s]\n",
            "100%|██████████| 225/225 [00:05<00:00, 40.64it/s]\n",
            "100%|██████████| 225/225 [00:05<00:00, 41.03it/s]\n",
            "100%|██████████| 225/225 [00:05<00:00, 40.78it/s]\n",
            "100%|██████████| 225/225 [00:05<00:00, 40.92it/s]\n",
            "100%|██████████| 225/225 [00:05<00:00, 40.57it/s]\n",
            "100%|██████████| 225/225 [00:05<00:00, 40.86it/s]\n",
            "100%|██████████| 225/225 [00:05<00:00, 40.62it/s]\n",
            "100%|██████████| 225/225 [00:05<00:00, 40.61it/s]\n",
            "100%|██████████| 225/225 [00:05<00:00, 40.40it/s]\n",
            "100%|██████████| 225/225 [00:05<00:00, 40.58it/s]\n",
            "100%|██████████| 225/225 [00:05<00:00, 41.13it/s]\n",
            "100%|██████████| 225/225 [00:05<00:00, 40.59it/s]\n",
            "100%|██████████| 225/225 [00:05<00:00, 40.33it/s]\n",
            "100%|██████████| 225/225 [00:05<00:00, 39.85it/s]\n",
            "100%|██████████| 225/225 [00:05<00:00, 41.25it/s]\n",
            "100%|██████████| 225/225 [00:05<00:00, 40.65it/s]\n",
            "100%|██████████| 225/225 [00:05<00:00, 41.17it/s]\n",
            "100%|██████████| 225/225 [00:05<00:00, 41.09it/s]\n",
            "100%|██████████| 225/225 [00:05<00:00, 41.15it/s]\n",
            "100%|██████████| 225/225 [00:05<00:00, 40.79it/s]\n",
            "100%|██████████| 225/225 [00:05<00:00, 41.36it/s]\n",
            "100%|██████████| 225/225 [00:05<00:00, 41.55it/s]\n",
            "100%|██████████| 225/225 [00:05<00:00, 40.95it/s]\n"
          ],
          "name": "stderr"
        }
      ]
    },
    {
      "cell_type": "code",
      "metadata": {
        "colab": {
          "base_uri": "https://localhost:8080/",
          "height": 278
        },
        "id": "C2KdFQ1gttsd",
        "outputId": "244a73ef-2b3f-4465-9184-59a05548ba3b"
      },
      "source": [
        "import matplotlib.pyplot as plt\r\n",
        "from matplotlib import style\r\n",
        "\r\n",
        "style.use(\"ggplot\")\r\n",
        "\r\n",
        "def create_acc_loss_graph(model_name):\r\n",
        "  contents = open(\"model.log\", \"r\").read().split(\"\\n\")\r\n",
        "\r\n",
        "  times = []\r\n",
        "  accuracies = []\r\n",
        "  losses = []\r\n",
        "\r\n",
        "  val_accs = []\r\n",
        "  val_losses = []\r\n",
        "\r\n",
        "  for c in contents:\r\n",
        "    if MODEL_NAME in c:\r\n",
        "      name, timestamp, acc, loss, val_acc, val_loss = c.split(\",\")\r\n",
        "\r\n",
        "      times.append(float(timestamp))\r\n",
        "      accuracies.append(float(acc))\r\n",
        "      losses.append(float(loss))\r\n",
        "\r\n",
        "      val_accs.append(float(val_acc))\r\n",
        "      val_losses.append(float(val_loss))\r\n",
        "\r\n",
        "  fig = plt.figure()\r\n",
        "\r\n",
        "  ax1 = plt.subplot2grid((2,1), (0,0))\r\n",
        "  ax2 = plt.subplot2grid((2,1), (1,0), sharex=ax1)\r\n",
        "\r\n",
        "  ax1.plot(times, accuracies, label=\"acc\")\r\n",
        "  ax1.plot(times, val_accs, label=\"val_acc\")\r\n",
        "  ax1.legend(loc=2)\r\n",
        "  \r\n",
        "  ax2.plot(times,losses, label=\"loss\")\r\n",
        "  ax2.plot(times,val_losses, label=\"val_loss\")\r\n",
        "  ax2.legend(loc=2)\r\n",
        "  plt.show()\r\n",
        "\r\n",
        "create_acc_loss_graph(MODEL_NAME)"
      ],
      "execution_count": 18,
      "outputs": [
        {
          "output_type": "display_data",
          "data": {
            "image/png": "[encoded data removed]",
            "text/plain": [
              "<Figure size 432x288 with 2 Axes>"
            ]
          },
          "metadata": {
            "tags": []
          }
        }
      ]
    },
    {
      "cell_type": "markdown",
      "metadata": {
        "id": "AIAJN1GlyVNx"
      },
      "source": [
        "Conclusion\r\n",
        "* Overfitting after 8 epochs: train acc tends to 1.0, train loss tends to 0. This means that the neural networks is memorizing the train data\r\n",
        "* Increasing deviation between train and val acc/loss shows that the model cannot generalize."
      ]
    }
  ]
}